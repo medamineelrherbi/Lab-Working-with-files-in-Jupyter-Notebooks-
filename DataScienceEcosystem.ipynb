{
 "cells": [
  {
   "cell_type": "markdown",
   "id": "da0903ce-8e2b-40f1-9f2d-08c7687eede4",
   "metadata": {},
   "source": [
    "# Data Science Tools and Ecosystem \n"
   ]
  },
  {
   "cell_type": "markdown",
   "id": "c8f18115-a130-4f56-9daf-e8c8f705be8f",
   "metadata": {
    "tags": []
   },
   "source": [
    "In this notebook, Data Science Tools and Ecosystem are summarized."
   ]
  },
  {
   "cell_type": "markdown",
   "id": "276319a0-1af1-4648-9bbe-533e87b14399",
   "metadata": {},
   "source": [
    "**Objectives:**\n",
    "- list popular languages for data science\n",
    "- list commonly used libraries for data science\n",
    "- list IDE used in data science\n",
    "- evaluating arithmetic expressions in python"
   ]
  },
  {
   "cell_type": "markdown",
   "id": "4294b453-818f-4d4b-a8dc-c7bf973410d3",
   "metadata": {},
   "source": [
    "Some of the popular languages that Data Scientists use are: \n",
    "- python\n",
    "- R\n",
    "- SQL\n",
    "- sqala"
   ]
  },
  {
   "cell_type": "markdown",
   "id": "2bb852ec-e5e5-4f7d-9a59-8f997c88911b",
   "metadata": {},
   "source": [
    "Some of the commonly used libraries used by Data Scientists include:\n",
    "- pandas\n",
    "- tensorflow\n",
    "- numpy\n",
    "- matplotlib\n",
    "- scikit-learn"
   ]
  },
  {
   "cell_type": "markdown",
   "id": "36934b15-aef4-42d8-9fc7-30de97f2d472",
   "metadata": {},
   "source": [
    "| Data science tools |\n",
    "|--------------------|\n",
    "| Rstudio |\n",
    "| Jupyter Notebook |\n",
    "| VS code |"
   ]
  },
  {
   "cell_type": "markdown",
   "id": "b30fb384-ef1d-4225-bc2b-abf9776a05e9",
   "metadata": {},
   "source": [
    "### Below are a few examples of evaluating arithmetic expressions in Python"
   ]
  },
  {
   "cell_type": "code",
   "execution_count": 2,
   "id": "0e96a851-4529-495c-9bca-075ddb76f822",
   "metadata": {
    "tags": []
   },
   "outputs": [
    {
     "data": {
      "text/plain": [
       "17"
      ]
     },
     "execution_count": 2,
     "metadata": {},
     "output_type": "execute_result"
    }
   ],
   "source": [
    "# This a simple arithmetic expression to mutiply then add integers\n",
    "(3*4)+5"
   ]
  },
  {
   "cell_type": "code",
   "execution_count": 3,
   "id": "f8ff2e72-a24d-4dd8-9dc0-b0399038a15b",
   "metadata": {
    "tags": []
   },
   "outputs": [
    {
     "data": {
      "text/plain": [
       "3.3333333333333335"
      ]
     },
     "execution_count": 3,
     "metadata": {},
     "output_type": "execute_result"
    }
   ],
   "source": [
    "# This will convert 200 minutes to hours by diving by 60\n",
    "200/60"
   ]
  },
  {
   "cell_type": "markdown",
   "id": "c01979e2-4b59-4d08-9269-0ed21002c8d9",
   "metadata": {},
   "source": [
    "## Author\n",
    "EL RHERBI MOHAMED AMINE"
   ]
  },
  {
   "cell_type": "code",
   "execution_count": null,
   "id": "fe28562f-49d4-4dff-b2f4-87a311f02300",
   "metadata": {},
   "outputs": [],
   "source": []
  }
 ],
 "metadata": {
  "kernelspec": {
   "display_name": "Python",
   "language": "python",
   "name": "conda-env-python-py"
  },
  "language_info": {
   "codemirror_mode": {
    "name": "ipython",
    "version": 3
   },
   "file_extension": ".py",
   "mimetype": "text/x-python",
   "name": "python",
   "nbconvert_exporter": "python",
   "pygments_lexer": "ipython3",
   "version": "3.7.12"
  }
 },
 "nbformat": 4,
 "nbformat_minor": 5
}
